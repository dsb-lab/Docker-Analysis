{
 "cells": [
  {
   "cell_type": "code",
   "execution_count": 1,
   "metadata": {},
   "outputs": [],
   "source": [
    "import scanpy as scp\n",
    "import numpy as np\n",
    "import matplotlib.pyplot as plt\n",
    "import seaborn as sb\n",
    "import pandas as pd\n",
    "import scrublet as scr\n",
    "\n",
    "import sys\n",
    "sys.path.append('../')\n",
    "from mySCfunctions import *\n",
    "sys.path.append('./')\n",
    "\n",
    "import Parameters as par\n",
    "from importlib import reload\n",
    "reload(par);\n",
    "\n",
    "import warnings\n",
    "warnings.filterwarnings('ignore')"
   ]
  },
  {
   "cell_type": "code",
   "execution_count": 2,
   "metadata": {},
   "outputs": [],
   "source": [
    "a = scp.read(\"ManipulatedData/\"+par.METRIC+\"/QC.h5ad\")"
   ]
  },
  {
   "cell_type": "markdown",
   "metadata": {},
   "source": [
    "# Normalisation of the data\n",
    "\n",
    "All the cells are normalised to a reference total count computed as the average cell count of all the cells. There are more complex methods to compute the factors. However, all the metrics based on correlation measures are insensitive to this degree of variability. Although we use in this analysis a \"euclidean\" distance for sake of consistency with the original paper, we consider these metrics to be more reasonable to compare cells.\n",
    "\n",
    "It can be proven that a euclidean and correlation matrices are equivalen under a global normalization. We hence, prefer to use such normalization for the analysis. The discrepancies expected shouldn't be very high."
   ]
  },
  {
   "cell_type": "code",
   "execution_count": 3,
   "metadata": {},
   "outputs": [],
   "source": [
    "a.obsm[\"raw\"] = a.X.copy()"
   ]
  },
  {
   "cell_type": "code",
   "execution_count": 4,
   "metadata": {},
   "outputs": [],
   "source": [
    "scp.pp.normalize_total(a,target_sum=a.obs[\"nCounts\"].mean())"
   ]
  },
  {
   "cell_type": "code",
   "execution_count": 5,
   "metadata": {},
   "outputs": [],
   "source": [
    "a.write(\"ManipulatedData/\"+par.METRIC+\"/Normalisation.h5ad\")"
   ]
  },
  {
   "cell_type": "code",
   "execution_count": null,
   "metadata": {},
   "outputs": [],
   "source": []
  }
 ],
 "metadata": {
  "hide_input": false,
  "kernelspec": {
   "display_name": "scRNAseq",
   "language": "python",
   "name": "scrnaseq"
  },
  "language_info": {
   "codemirror_mode": {
    "name": "ipython",
    "version": 3
   },
   "file_extension": ".py",
   "mimetype": "text/x-python",
   "name": "python",
   "nbconvert_exporter": "python",
   "pygments_lexer": "ipython3",
   "version": "3.9.5"
  },
  "toc": {
   "base_numbering": 1,
   "nav_menu": {},
   "number_sections": true,
   "sideBar": true,
   "skip_h1_title": false,
   "title_cell": "Table of Contents",
   "title_sidebar": "Contents",
   "toc_cell": false,
   "toc_position": {},
   "toc_section_display": true,
   "toc_window_display": false
  }
 },
 "nbformat": 4,
 "nbformat_minor": 4
}
